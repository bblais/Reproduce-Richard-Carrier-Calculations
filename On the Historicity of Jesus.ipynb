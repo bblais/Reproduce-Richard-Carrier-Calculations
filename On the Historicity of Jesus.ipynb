{
 "cells": [
  {
   "cell_type": "code",
   "execution_count": null,
   "id": "5e9cecb8-980e-484b-be6e-034c3dd66608",
   "metadata": {},
   "outputs": [],
   "source": [
    "from defs import *"
   ]
  },
  {
   "cell_type": "code",
   "execution_count": null,
   "id": "5ca1d4ec-6085-4477-b2e5-d77230eb600c",
   "metadata": {},
   "outputs": [
    {
     "data": {
      "text/markdown": [
       "|               | a fortiori    | a judicantiori|\n",
       "|-------------:|:-------------:|:-------------:|\n",
       "| Historical    | $N_h=4$       | $N_h=0$       |\n",
       "| Non-historical| $N_m=10$      | $N_m=14$      |\n",
       "| Total         | $N=14$        | $N=14$        |\n"
      ],
      "text/plain": [
       "<IPython.core.display.Markdown object>"
      ]
     },
     "metadata": {},
     "output_type": "display_data"
    }
   ],
   "source": [
    "data_e12=TableCarrier(\"Carrier's prior\",4,10,0,14)\n",
    "data_e12.display()"
   ]
  },
  {
   "cell_type": "code",
   "execution_count": null,
   "id": "33609810-f4a9-4ddd-a48a-b9d54b34035d",
   "metadata": {},
   "outputs": [
    {
     "name": "stdout",
     "output_type": "stream",
     "text": [
      "|               | a fortiori    | a judicantiori|\n",
      "|-------------:|:-------------:|:-------------:|\n",
      "| Historical    | $N_h=4$       | $N_h=0$       |\n",
      "| Non-historical| $N_m=10$      | $N_m=14$      |\n",
      "| Total         | $N=14$        | $N=14$        |\n",
      "\n"
     ]
    }
   ],
   "source": [
    "print(data_e12.markdown())"
   ]
  },
  {
   "cell_type": "code",
   "execution_count": null,
   "id": "519598dc-4391-45e1-a8af-e048004c4b85",
   "metadata": {},
   "outputs": [],
   "source": [
    "# charitable\n",
    "N_h,_,N_m,_=data_e12.df.values.ravel()\n",
    "N=N_h+N_m"
   ]
  },
  {
   "cell_type": "code",
   "execution_count": null,
   "id": "f9e2e75a-b57b-408b-ab42-c777591928df",
   "metadata": {},
   "outputs": [
    {
     "data": {
      "text/markdown": [
       "1. $$\\begin{aligned}\n",
       "P(h|e_1,e_2)&\\sim P(e_2|h,e_1) \\cdot P(h|e_1)\\\\\n",
       "P(\\neg h|e_1,e_2)&\\sim P(e_2|\\neg h,e_1) \\cdot P(\\neg h|e_1)\\\\\n",
       "\\end{aligned}$$\n",
       "$$\\begin{aligned}\n",
       "P(h|e_1,e_2)&\\sim \\left(\\frac{4+1}{14+2}\\right) \\cdot 1/2 = 0.1562\\\\\n",
       "P(\\neg h|e_1,e_2)&\\sim \\left(\\frac{10+1}{14+2}\\right) \\cdot 1/2 = 0.3438\\\\\n",
       "\\end{aligned}$$\n",
       "2. $$\\begin{aligned}\n",
       "T_{\\text{denominator}}&=0.1562 + 0.3438 = 0.5000\\end{aligned}$$\n",
       "3. $$\\begin{aligned}\n",
       "P(h|e_1,e_2)& =0.1562/0.5000=0.3125\\\\\n",
       "P(\\neg h|e_1,e_2)& =0.3438/0.5000=0.6875\\\\\n",
       "\\end{aligned}$$\n"
      ],
      "text/plain": [
       "<IPython.core.display.Markdown object>"
      ]
     },
     "metadata": {},
     "output_type": "display_data"
    }
   ],
   "source": [
    "PP={'h|e_1,e_2':[ ['e_2|h,e_1',LS(N_h,N)],\n",
    "                  ['h|e_1',F(1,2)]],\n",
    "    '\\\\neg h|e_1,e_2':[ \n",
    "            ['e_2|\\\\neg h,e_1',LS(N_m,N)],\n",
    "            ['\\\\neg h|e_1',F(1,2)]\n",
    "       ],\n",
    "      }\n",
    "\n",
    "vals,S=P_to_display2(PP)\n"
   ]
  },
  {
   "cell_type": "code",
   "execution_count": null,
   "id": "d21a81fa-880b-44b2-8e5f-97d93123ba63",
   "metadata": {},
   "outputs": [
    {
     "data": {
      "text/markdown": [
       "1. $$\\begin{aligned}\n",
       "P(h|e_1,e_2)&\\sim \\underbrace{P(e_2|h,e_1)}_{\\left(\\frac{N_h+1}{N+2}\\right)} \\cdot \\underbrace{P(h|e_1)}_{1/2}\\\\\n",
       "P(\\neg h|e_1,e_2)&\\sim \\underbrace{P(e_2|\\neg h,e_1)}_{\\left(\\frac{N_m+1}{N+2}\\right)} \\cdot \\underbrace{P(\\neg h|e_1)}_{1/2}\\\\\n",
       "\\end{aligned}$$\n",
       "$$\\begin{aligned}\n",
       "P(h|e_1,e_2)&\\sim \\left(\\frac{N_h+1}{N+2}\\right) \\cdot 1/2\\\\\n",
       " & \\sim \\left(\\frac{4+1}{14+2}\\right) \\cdot 1/2 = 0.1562\\\\\n",
       "P(\\neg h|e_1,e_2)&\\sim \\left(\\frac{N_m+1}{N+2}\\right) \\cdot 1/2\\\\\n",
       " & \\sim \\left(\\frac{10+1}{14+2}\\right) \\cdot 1/2 = 0.3438\\\\\n",
       "\\end{aligned}$$\n",
       "2. $$\\begin{aligned}\n",
       "T_{\\text{denominator}}&=0.1562 + 0.3438 = 0.5000\\end{aligned}$$\n",
       "3. $$\\begin{aligned}\n",
       "P(h|e_1,e_2)& =0.1562/0.5000=0.3125\\\\\n",
       "P(\\neg h|e_1,e_2)& =0.3438/0.5000=0.6875\\\\\n",
       "\\end{aligned}$$\n"
      ],
      "text/plain": [
       "<IPython.core.display.Markdown object>"
      ]
     },
     "metadata": {},
     "output_type": "display_data"
    }
   ],
   "source": [
    "PP={'h|e_1,e_2':[ ['e_2|h,e_1',LS(N_h,N),['N_h','N']],\n",
    "                  ['h|e_1',F(1,2),'1/2']],\n",
    "    '\\\\neg h|e_1,e_2':[ \n",
    "            ['e_2|\\\\neg h,e_1',LS(N_m,N),['N_m','N']],\n",
    "            ['\\\\neg h|e_1',F(1,2),'1/2']\n",
    "       ],\n",
    "      }\n",
    "\n",
    "vals,S=P_to_display2(PP)\n"
   ]
  },
  {
   "cell_type": "code",
   "execution_count": null,
   "id": "a7e76c85-4493-4131-94f5-ea85732dcd79",
   "metadata": {},
   "outputs": [],
   "source": [
    "df,Tc,Tu=get_carrier_data()"
   ]
  },
  {
   "cell_type": "code",
   "execution_count": null,
   "id": "4afc526f-986b-4d37-9465-8f2ef085303c",
   "metadata": {},
   "outputs": [
    {
     "data": {
      "text/markdown": [
       "#### Likeihood ratios for each piece of evidence, $c_i$"
      ],
      "text/plain": [
       "<IPython.core.display.Markdown object>"
      ]
     },
     "metadata": {},
     "output_type": "display_data"
    },
    {
     "data": {
      "text/markdown": [
       "|                                                  | a fortiori   | a judicantiori   | Source        |\n",
       "|:-------------------------------------------------|:-------------|:-----------------|:--------------|\n",
       "| $c_{1} :=$ prior ($e_1$,$e_2$)                   | 1/2          | 1/15             | Prior         |\n",
       "| $c_{2} :=$ Twin traditions                       | 4/5          | 1/2              | Extrabiblical |\n",
       "| $c_{3} :=$ Documentary silence                   | 1            | 1                | Extrabiblical |\n",
       "| $c_{4} :=$ 1 Clement                             | 4/5          | 1/2              | Extrabiblical |\n",
       "| $c_{5} :=$ Ignatius and Ascension of Isaiah      | 4/5          | 1/2              | Extrabiblical |\n",
       "| $c_{6} :=$ Papias                                | 1            | 1                | Extrabiblical |\n",
       "| $c_{7} :=$ Hegesippus                            | 9/10         | 4/5              | Extrabiblical |\n",
       "| $c_{8} :=$ Josephus                              | 1            | 1                | Extrabiblical |\n",
       "| $c_{9} :=$ Pliny                                 | 1            | 1                | Extrabiblical |\n",
       "| $c_{10} :=$ Tacitus                              | 1            | 1                | Extrabiblical |\n",
       "| $c_{11} :=$ Suetonius                            | 1            | 1                | Extrabiblical |\n",
       "| $c_{12} :=$ Thallus                              | 1            | 1                | Extrabiblical |\n",
       "| $c_{13} :=$ Lack of gainsaying witnesses         | 1            | 1                | Extrabiblical |\n",
       "| $c_{14} :=$ Vanishing family et al.              | 4/5          | 2/5              | Acts          |\n",
       "| $c_{15} :=$ Omissions in Paul's trials           | 9/10         | 1/2              | Acts          |\n",
       "| $c_{16} :=$ Remainder of Acts                    | 1            | 1                | Acts          |\n",
       "| $c_{17} :=$ Reasons                              | 1            | 1                | Gospels       |\n",
       "| $c_{18} :=$ Other canonical Epistles             | 4/5          | 3/5              | Epistles      |\n",
       "| $c_{19} :=$ Gospels in Paul, Hebrews, Colossians | 3/5          | 2/5              | Epistles      |\n",
       "| $c_{20} :=$ Things Jesus said                    | 1            | 1                | Epistles      |\n",
       "| $c_{21} :=$ The Eucharist (1 Cor. 11.23-26)      | 1            | 1                | Epistles      |\n",
       "| $c_{22} :=$ Things Jesus did                     | 3/4          | 1/2              | Epistles      |\n",
       "| $c_{23} :=$ Made from sperm                      | 2            | 1                | Epistles      |\n",
       "| $c_{24} :=$ Made from a woman                    | 2            | 1                | Epistles      |\n",
       "| $c_{25} :=$ Brothers of the Lord                 | 2            | 1/2              | Epistles      |"
      ],
      "text/plain": [
       "<IPython.core.display.Markdown object>"
      ]
     },
     "metadata": {},
     "output_type": "display_data"
    }
   ],
   "source": [
    "display(Markdown(\"#### Likeihood ratios for each piece of evidence, $c_i$\"))\n",
    "display(Markdown(df.to_markdown()))"
   ]
  },
  {
   "cell_type": "code",
   "execution_count": null,
   "id": "6f383568-fb4f-4c2b-b5ed-86eefd3679ac",
   "metadata": {},
   "outputs": [
    {
     "data": {
      "text/markdown": [
       "## Charitable calculation,\n",
       "\n",
       "- Posterior ratio $$\n",
       "\\frac{P(h|e_1,e_2,\\left\\{c_i\\right\\})}{P(\\neg h|e_1,e_2,\\left\\{c_i\\right\\})}=\\frac{186624}{390625}\n",
       "$$\n",
       "- Posterior probabilities $$\\begin{aligned}\n",
       "P(h|e_1,e_2,\\left\\{c_i\\right\\})&=\\frac{186624}{577249}=0.323\\\\\n",
       "P(\\neg h|e_1,e_2,\\left\\{c_i\\right\\})&=\\frac{390625}{577249}=0.677\\\\\n",
       "\\end{aligned}\n",
       "$$\n",
       "\n"
      ],
      "text/plain": [
       "<IPython.core.display.Markdown object>"
      ]
     },
     "metadata": {},
     "output_type": "display_data"
    },
    {
     "data": {
      "text/markdown": [
       "\n",
       "### Uncharitable calculation,\n",
       "\n",
       "- Posterior ratio $$\n",
       "\\frac{P(h|e_1,e_2,\\left\\{c_i\\right\\})}{P(\\neg h|e_1,e_2,\\left\\{c_i\\right\\})}=\\frac{1}{12500}\n",
       "$$\n",
       "- Posterior probabilities $$\\begin{aligned}\n",
       "P(h|e_1,e_2,\\left\\{c_i\\right\\})&=\\frac{1}{12501}=0.000080\\\\\n",
       "P(\\neg h|e_1,e_2,\\left\\{c_i\\right\\})&=\\frac{12500}{12501}=0.999920\\\\\n",
       "\\end{aligned}\n",
       "$$\n",
       "\n"
      ],
      "text/plain": [
       "<IPython.core.display.Markdown object>"
      ]
     },
     "metadata": {},
     "output_type": "display_data"
    }
   ],
   "source": [
    "display(Markdown(r\"\"\"## Charitable calculation,\n",
    "\n",
    "- Posterior ratio $$\n",
    "\\frac{P(h|e_1,e_2,\\left\\{c_i\\right\\})}{P(\\neg h|e_1,e_2,\\left\\{c_i\\right\\})}=\\frac{%d}{%d}\n",
    "$$\n",
    "- Posterior probabilities $$\\begin{aligned}\n",
    "P(h|e_1,e_2,\\left\\{c_i\\right\\})&=\\frac{%d}{%d}=%.3f\\\\\n",
    "P(\\neg h|e_1,e_2,\\left\\{c_i\\right\\})&=\\frac{%d}{%d}=%.3f\\\\\n",
    "\\end{aligned}\n",
    "$$\n",
    "\n",
    "\"\"\" % (Tc.ratio.numerator,Tc.ratio.denominator,\n",
    "       Tc.P_h.numerator,Tc.P_h.denominator,float(Tc.P_h),\n",
    "       Tc.P_neg_h.numerator,Tc.P_neg_h.denominator,float(Tc.P_neg_h),\n",
    "      )\n",
    "))\n",
    "\n",
    "\n",
    "display(Markdown(r\"\"\"\n",
    "### Uncharitable calculation,\n",
    "\n",
    "- Posterior ratio $$\n",
    "\\frac{P(h|e_1,e_2,\\left\\{c_i\\right\\})}{P(\\neg h|e_1,e_2,\\left\\{c_i\\right\\})}=\\frac{%d}{%d}\n",
    "$$\n",
    "- Posterior probabilities $$\\begin{aligned}\n",
    "P(h|e_1,e_2,\\left\\{c_i\\right\\})&=\\frac{%d}{%d}=%f\\\\\n",
    "P(\\neg h|e_1,e_2,\\left\\{c_i\\right\\})&=\\frac{%d}{%d}=%f\\\\\n",
    "\\end{aligned}\n",
    "$$\n",
    "\n",
    "\"\"\" % (Tu.ratio.numerator,Tu.ratio.denominator,\n",
    "       Tu.P_h.numerator,Tu.P_h.denominator,float(Tu.P_h),\n",
    "       Tu.P_neg_h.numerator,Tu.P_neg_h.denominator,float(Tu.P_neg_h),\n",
    "      )\n",
    "))"
   ]
  },
  {
   "cell_type": "code",
   "execution_count": null,
   "id": "949826a5-c73b-4e59-b10a-e087a42cd07a",
   "metadata": {},
   "outputs": [],
   "source": []
  }
 ],
 "metadata": {
  "kernelspec": {
   "display_name": "python3",
   "language": "python",
   "name": "python3"
  }
 },
 "nbformat": 4,
 "nbformat_minor": 5
}
